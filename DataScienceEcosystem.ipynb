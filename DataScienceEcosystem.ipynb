{
 "cells": [
  {
   "cell_type": "markdown",
   "id": "b1a2baa0-23fa-4091-8fa3-e1c908b81ce9",
   "metadata": {},
   "source": [
    "# Data Science Tools and Ecosystem"
   ]
  },
  {
   "cell_type": "markdown",
   "id": "aac96ef5-5dd9-433e-a637-3e7da4847fb7",
   "metadata": {},
   "source": [
    "In this notebook, Data Science Tools and Ecosystem are summarized."
   ]
  },
  {
   "cell_type": "markdown",
   "id": "d286b1f7-77a9-4043-be96-c124cfcbe1cb",
   "metadata": {},
   "source": [
    "Some of the popular languages that Data Scientists use are:\n",
    "\n",
    "1. Python\n",
    "1. Julia\n",
    "1. R\n",
    "1. Scala\n",
    "1. SQL"
   ]
  },
  {
   "cell_type": "markdown",
   "id": "49266d3b-43ec-4617-a8cb-d75e8e120679",
   "metadata": {},
   "source": [
    "Some of the commonly used libraries used by Data Scientists include:\n",
    "\n",
    "1. Pandas\n",
    "1. NumPy\n",
    "1. SciPy"
   ]
  },
  {
   "cell_type": "markdown",
   "id": "f43e8180-5be1-4999-b7a9-9a5eefef8abc",
   "metadata": {},
   "source": [
    "### Data Science Tools\n",
    "\n",
    "| Data Science Tools |\n",
    "|----------|\n",
    "| Anaconda |\n",
    "| JupyterLite |\n",
    "| Google Colab |"
   ]
  },
  {
   "cell_type": "markdown",
   "id": "a9ba9d3f-819a-4efd-a7f9-f88b2280a322",
   "metadata": {},
   "source": [
    "### Below are a few examples of evaluating arithmetic expressions in Python"
   ]
  },
  {
   "cell_type": "code",
   "execution_count": 2,
   "id": "0fd0714c-fcd6-47c2-a9e6-38266eefd41a",
   "metadata": {},
   "outputs": [
    {
     "data": {
      "text/plain": [
       "17"
      ]
     },
     "execution_count": 2,
     "metadata": {},
     "output_type": "execute_result"
    }
   ],
   "source": [
    "# This a simple arithmetic expression to mutiply then add integers\n",
    "\n",
    "(3*4)+5"
   ]
  },
  {
   "cell_type": "code",
   "execution_count": 3,
   "id": "3aae72d5-4507-4f7c-ae75-5bc306f668f9",
   "metadata": {},
   "outputs": [
    {
     "data": {
      "text/plain": [
       "3.3333333333333335"
      ]
     },
     "execution_count": 3,
     "metadata": {},
     "output_type": "execute_result"
    }
   ],
   "source": [
    "# This will convert 200 minutes to hours by diving by 60\n",
    "\n",
    "200/60"
   ]
  },
  {
   "cell_type": "markdown",
   "id": "530d1d0c-6018-4558-84dc-1d41aeb738c1",
   "metadata": {},
   "source": [
    "**Objectives:**\n",
    "\n",
    "- List popular languages for Data Science\n",
    "- List commonly used libraries used by Data Scientists \n",
    "- List Data Science Tools\n",
    "- Evaluate arithmetic expressions in Python"
   ]
  },
  {
   "cell_type": "markdown",
   "id": "4efbb82d-529b-4128-8c85-4b54987eda04",
   "metadata": {},
   "source": [
    "## Author\n",
    "\n",
    "Conrad Siteyi"
   ]
  },
  {
   "cell_type": "code",
   "execution_count": null,
   "id": "7dd031ea-3d16-4855-9bde-9124634ab612",
   "metadata": {},
   "outputs": [],
   "source": []
  }
 ],
 "metadata": {
  "kernelspec": {
   "display_name": "Python 3 (ipykernel)",
   "language": "python",
   "name": "python3"
  },
  "language_info": {
   "codemirror_mode": {
    "name": "ipython",
    "version": 3
   },
   "file_extension": ".py",
   "mimetype": "text/x-python",
   "name": "python",
   "nbconvert_exporter": "python",
   "pygments_lexer": "ipython3",
   "version": "3.13.5"
  }
 },
 "nbformat": 4,
 "nbformat_minor": 5
}
